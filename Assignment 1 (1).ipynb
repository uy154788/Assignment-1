{
 "cells": [
  {
   "cell_type": "code",
   "execution_count": 1,
   "id": "4b4b191e-9cd8-4f57-b887-9c37927a3403",
   "metadata": {},
   "outputs": [],
   "source": [
    "          #    QUESTION NO:- 2  USING \"FOR LOOP\""
   ]
  },
  {
   "cell_type": "code",
   "execution_count": 10,
   "id": "f2010d0f-4421-404a-8ff9-70608782c238",
   "metadata": {},
   "outputs": [
    {
     "name": "stdout",
     "output_type": "stream",
     "text": [
      "The sum is:  55\n",
      "The product is:  3628800\n"
     ]
    }
   ],
   "source": [
    "n=10\n",
    "sum=0\n",
    "product=1\n",
    "for i in range(1,n+1):\n",
    "    sum=sum+i\n",
    "    product=product*i\n",
    "print(\"The sum is: \",sum)\n",
    "print(\"The product is: \",product)"
   ]
  },
  {
   "cell_type": "code",
   "execution_count": null,
   "id": "2012daa2-cf65-4a8c-945f-5e1e6a88c7f0",
   "metadata": {},
   "outputs": [],
   "source": [
    "       #    QUESTION NO:- 2  USING \"WHILE LOOP\""
   ]
  },
  {
   "cell_type": "code",
   "execution_count": 2,
   "id": "ed07ad8a-5542-4010-8548-8d4ac1f1e8e0",
   "metadata": {},
   "outputs": [
    {
     "name": "stdout",
     "output_type": "stream",
     "text": [
      "The sum is:  55\n",
      "The product is:  3628800\n"
     ]
    }
   ],
   "source": [
    "n=10\n",
    "sum=0\n",
    "product=1\n",
    "while(n>0):\n",
    "    sum=sum+n\n",
    "    product=product*n\n",
    "    n=n-1\n",
    "print(\"The sum is: \",sum)\n",
    "print(\"The product is: \",product)"
   ]
  },
  {
   "cell_type": "code",
   "execution_count": null,
   "id": "cae38d5f-563c-4694-9b38-fa7cf7f12bd7",
   "metadata": {},
   "outputs": [],
   "source": []
  },
  {
   "cell_type": "code",
   "execution_count": null,
   "id": "5e0f851f-c184-4ff8-a016-b0b4462da09c",
   "metadata": {},
   "outputs": [],
   "source": [
    "       #    QUESTION NO:- 3"
   ]
  },
  {
   "cell_type": "code",
   "execution_count": 1,
   "id": "3c563942-41e9-41b8-b2b5-ab246c6a40c3",
   "metadata": {},
   "outputs": [
    {
     "name": "stdin",
     "output_type": "stream",
     "text": [
      "Enter the units of electricity in a month:  500\n"
     ]
    },
    {
     "name": "stdout",
     "output_type": "stream",
     "text": [
      "Total charge is:  6050.0\n"
     ]
    }
   ],
   "source": [
    "n=int(input(\"Enter the units of electricity in a month: \"))\n",
    "if(n>=0 and n<=100):\n",
    "      charge=n*4.5\n",
    "elif(n>100 and n<=200):\n",
    "      rest_unit=n-100\n",
    "      charge=100*4.5+rest_unit*6\n",
    "elif(n>200 and n<=300):\n",
    "      rest_unit=n-200\n",
    "      charge=(100*4.5)+(100*6)+(rest_unit*10)\n",
    "else:\n",
    "      rest_unit=n-300\n",
    "      charge=(100*4.5)+(100*6)+(100*10)+(rest_unit*20)\n",
    "print(\"Total charge is: \",charge)\n",
    "      \n",
    "\n",
    "      \n",
    "      \n",
    "          "
   ]
  },
  {
   "cell_type": "code",
   "execution_count": null,
   "id": "e42ea227-0ee5-4c72-a644-611c1d480b28",
   "metadata": {},
   "outputs": [],
   "source": []
  },
  {
   "cell_type": "code",
   "execution_count": 3,
   "id": "dc972e23-abd9-4673-9980-ecbc1765c01f",
   "metadata": {},
   "outputs": [],
   "source": [
    "            #    QUESTION NO:- 4  USING \"FOR LOOP\""
   ]
  },
  {
   "cell_type": "code",
   "execution_count": 5,
   "id": "c371b711-b439-44e4-9d75-8377324ba1a4",
   "metadata": {},
   "outputs": [
    {
     "data": {
      "text/plain": [
       "[8,\n",
       " 64,\n",
       " 125,\n",
       " 216,\n",
       " 512,\n",
       " 1000,\n",
       " 1728,\n",
       " 2744,\n",
       " 3375,\n",
       " 4096,\n",
       " 5832,\n",
       " 8000,\n",
       " 10648,\n",
       " 13824,\n",
       " 15625,\n",
       " 17576,\n",
       " 21952,\n",
       " 27000,\n",
       " 32768,\n",
       " 39304,\n",
       " 42875,\n",
       " 46656,\n",
       " 54872,\n",
       " 64000,\n",
       " 74088,\n",
       " 85184,\n",
       " 91125,\n",
       " 97336,\n",
       " 110592,\n",
       " 125000,\n",
       " 140608,\n",
       " 157464,\n",
       " 166375,\n",
       " 175616,\n",
       " 195112,\n",
       " 216000,\n",
       " 238328,\n",
       " 262144,\n",
       " 274625,\n",
       " 287496,\n",
       " 314432,\n",
       " 343000,\n",
       " 373248,\n",
       " 405224,\n",
       " 421875,\n",
       " 438976,\n",
       " 474552,\n",
       " 512000,\n",
       " 551368,\n",
       " 592704,\n",
       " 614125,\n",
       " 636056,\n",
       " 681472,\n",
       " 729000,\n",
       " 778688,\n",
       " 830584,\n",
       " 857375,\n",
       " 884736,\n",
       " 941192,\n",
       " 1000000]"
      ]
     },
     "execution_count": 5,
     "metadata": {},
     "output_type": "execute_result"
    }
   ],
   "source": [
    "l1=[]\n",
    "l2=[]\n",
    "for i in range(1,101):\n",
    "    l1.append(i)\n",
    "for i in l1:\n",
    "    cube=i*i*i\n",
    "    if(cube%4==0 or cube%5==0):\n",
    "        l2.append(cube)\n",
    "l2\n",
    "    "
   ]
  },
  {
   "cell_type": "code",
   "execution_count": null,
   "id": "efd6706f-85d3-4442-a149-69fe86e4efe9",
   "metadata": {},
   "outputs": [],
   "source": []
  },
  {
   "cell_type": "code",
   "execution_count": null,
   "id": "1ba7b1e2-21a3-45a8-92e4-305afe8120ce",
   "metadata": {},
   "outputs": [],
   "source": []
  },
  {
   "cell_type": "code",
   "execution_count": 6,
   "id": "8ad52561-bffb-4601-bb5b-12265732f128",
   "metadata": {},
   "outputs": [],
   "source": [
    "                #  QUESTION NO:- 4  USING \"WHILE LOOP\""
   ]
  },
  {
   "cell_type": "code",
   "execution_count": 1,
   "id": "ce69a66a-35fd-4a99-9c3b-796fd228dbd3",
   "metadata": {},
   "outputs": [
    {
     "data": {
      "text/plain": [
       "[8,\n",
       " 64,\n",
       " 125,\n",
       " 216,\n",
       " 512,\n",
       " 1000,\n",
       " 1728,\n",
       " 2744,\n",
       " 3375,\n",
       " 4096,\n",
       " 5832,\n",
       " 8000,\n",
       " 10648,\n",
       " 13824,\n",
       " 15625,\n",
       " 17576,\n",
       " 21952,\n",
       " 27000,\n",
       " 32768,\n",
       " 39304,\n",
       " 42875,\n",
       " 46656,\n",
       " 54872,\n",
       " 64000,\n",
       " 74088,\n",
       " 85184,\n",
       " 91125,\n",
       " 97336,\n",
       " 110592,\n",
       " 125000,\n",
       " 140608,\n",
       " 157464,\n",
       " 166375,\n",
       " 175616,\n",
       " 195112,\n",
       " 216000,\n",
       " 238328,\n",
       " 262144,\n",
       " 274625,\n",
       " 287496,\n",
       " 314432,\n",
       " 343000,\n",
       " 373248,\n",
       " 405224,\n",
       " 421875,\n",
       " 438976,\n",
       " 474552,\n",
       " 512000,\n",
       " 551368,\n",
       " 592704,\n",
       " 614125,\n",
       " 636056,\n",
       " 681472,\n",
       " 729000,\n",
       " 778688,\n",
       " 830584,\n",
       " 857375,\n",
       " 884736,\n",
       " 941192,\n",
       " 1000000]"
      ]
     },
     "execution_count": 1,
     "metadata": {},
     "output_type": "execute_result"
    }
   ],
   "source": [
    "n=1\n",
    "l1=[]\n",
    "l2=[]\n",
    "while(n<=100):\n",
    "    l1.append(n)\n",
    "    n=n+1\n",
    "for i in l1:\n",
    "    cube=i*i*i\n",
    "    if(cube%4==0 or cube%5==0):\n",
    "        l2.append(cube)\n",
    "l2"
   ]
  },
  {
   "cell_type": "code",
   "execution_count": null,
   "id": "c7ff821c-976c-4db7-baff-8477f03335ac",
   "metadata": {},
   "outputs": [],
   "source": []
  },
  {
   "cell_type": "code",
   "execution_count": null,
   "id": "dbc53915-edb3-4c0b-8e85-9f6275faa161",
   "metadata": {},
   "outputs": [],
   "source": []
  },
  {
   "cell_type": "code",
   "execution_count": 2,
   "id": "0555668e-e88d-4698-9533-7e1b70fb5fcb",
   "metadata": {},
   "outputs": [],
   "source": [
    "            # QUESTION NO:- 5"
   ]
  },
  {
   "cell_type": "code",
   "execution_count": 15,
   "id": "efe5161d-a08d-439e-9a76-ca19b48ca9eb",
   "metadata": {},
   "outputs": [
    {
     "data": {
      "text/plain": [
       "12"
      ]
     },
     "execution_count": 15,
     "metadata": {},
     "output_type": "execute_result"
    }
   ],
   "source": [
    "count=0\n",
    "s=\"I want to become a data scientist\"\n",
    "s=s.lower()\n",
    "for i in s:\n",
    "    if(i=='a' or i=='e' or  i=='i' or i=='o' or i=='u'):\n",
    "        count=count+1\n",
    "count"
   ]
  },
  {
   "cell_type": "code",
   "execution_count": null,
   "id": "88ffc910-e12b-4789-a4cc-1ac926965c2c",
   "metadata": {},
   "outputs": [],
   "source": []
  }
 ],
 "metadata": {
  "kernelspec": {
   "display_name": "Python 3 (ipykernel)",
   "language": "python",
   "name": "python3"
  },
  "language_info": {
   "codemirror_mode": {
    "name": "ipython",
    "version": 3
   },
   "file_extension": ".py",
   "mimetype": "text/x-python",
   "name": "python",
   "nbconvert_exporter": "python",
   "pygments_lexer": "ipython3",
   "version": "3.10.6"
  }
 },
 "nbformat": 4,
 "nbformat_minor": 5
}
